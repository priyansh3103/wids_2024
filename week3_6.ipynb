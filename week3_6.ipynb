{
 "cells": [
  {
   "cell_type": "code",
   "execution_count": 1,
   "metadata": {},
   "outputs": [
    {
     "name": "stdout",
     "output_type": "stream",
     "text": [
      "Feature Matrix Shape (A): (150, 4)\n",
      "Label Vector Shape (y): (150,)\n",
      "Number of Classes (C): 3\n",
      "Class Labels: [0 1 2]\n"
     ]
    }
   ],
   "source": [
    "import numpy as np\n",
    "from sklearn.datasets import load_iris\n",
    "\n",
    "# Load the Iris dataset\n",
    "iris = load_iris()\n",
    "\n",
    "# Features (A) and labels (y)\n",
    "A = iris.data\n",
    "y_original = iris.target\n",
    "\n",
    "# Check the shape of features and labels\n",
    "print(\"Feature Matrix Shape (A):\", A.shape)\n",
    "print(\"Label Vector Shape (y):\", y_original.shape)\n",
    "\n",
    "# Number of classes (C) and unique labels\n",
    "unique_labels = np.unique(y_original)\n",
    "print(\"Number of Classes (C):\", len(unique_labels))\n",
    "print(\"Class Labels:\", unique_labels)"
   ]
  },
  {
   "cell_type": "code",
   "execution_count": 2,
   "metadata": {},
   "outputs": [
    {
     "name": "stdout",
     "output_type": "stream",
     "text": [
      "Converted Labels (y): [-1.  1.]\n"
     ]
    }
   ],
   "source": [
    "# Convert labels to {+1, -1}\n",
    "y = np.ones(y_original.shape)  # Default +1\n",
    "y[y_original != 1] = -1  # Convert 0 and 2 to -1\n",
    "\n",
    "print(\"Converted Labels (y):\", np.unique(y))"
   ]
  },
  {
   "cell_type": "code",
   "execution_count": 3,
   "metadata": {},
   "outputs": [
    {
     "name": "stdout",
     "output_type": "stream",
     "text": [
      "Train Data Shape: (120, 4)\n",
      "Test Data Shape: (30, 4)\n",
      "Train Labels Shape: (120,)\n",
      "Test Labels Shape: (30,)\n"
     ]
    }
   ],
   "source": [
    "# Shuffle data\n",
    "n = A.shape[0]\n",
    "indexarr = np.arange(n)\n",
    "np.random.shuffle(indexarr)\n",
    "\n",
    "# Split data into train and test sets\n",
    "train_size = int(0.8 * n)\n",
    "train_indices = indexarr[:train_size]\n",
    "test_indices = indexarr[train_size:]\n",
    "\n",
    "train_data = A[train_indices]\n",
    "train_label = y[train_indices]\n",
    "test_data = A[test_indices]\n",
    "test_label = y[test_indices]\n",
    "\n",
    "print(\"Train Data Shape:\", train_data.shape)\n",
    "print(\"Test Data Shape:\", test_data.shape)\n",
    "print(\"Train Labels Shape:\", train_label.shape)\n",
    "print(\"Test Labels Shape:\", test_label.shape)"
   ]
  },
  {
   "cell_type": "code",
   "execution_count": 4,
   "metadata": {},
   "outputs": [],
   "source": [
    "def predict(w, x):\n",
    "    \"\"\"\n",
    "    Predict the class for a given sample x using model weights w.\n",
    "    \"\"\"\n",
    "    return np.sign(w.T @ x)\n",
    "\n",
    "def compute_accuracy(data, labels, model_w):\n",
    "    \"\"\"\n",
    "    Compute the accuracy of the model on a dataset.\n",
    "    \"\"\"\n",
    "    predictions = np.sign(data @ model_w)\n",
    "    correct_predictions = np.sum(predictions.flatten() == labels)\n",
    "    return correct_predictions / len(labels)"
   ]
  },
  {
   "cell_type": "code",
   "execution_count": 5,
   "metadata": {},
   "outputs": [
    {
     "name": "stdout",
     "output_type": "stream",
     "text": [
      "\n",
      "Results:\n",
      "Train Accuracy: 31.67%\n",
      "Test Accuracy: 40.00%\n"
     ]
    }
   ],
   "source": [
    "# Define a sample weight vector (initialize randomly or manually)\n",
    "np.random.seed(42)\n",
    "w = np.random.randn(A.shape[1], 1)  # Random weights for demonstration\n",
    "\n",
    "# Compute accuracy on the training and test sets\n",
    "train_accuracy = compute_accuracy(train_data, train_label, w)\n",
    "test_accuracy = compute_accuracy(test_data, test_label, w)\n",
    "\n",
    "# Display results\n",
    "print(\"\\nResults:\")\n",
    "print(f\"Train Accuracy: {train_accuracy * 100:.2f}%\")\n",
    "print(f\"Test Accuracy: {test_accuracy * 100:.2f}%\")"
   ]
  }
 ],
 "metadata": {
  "kernelspec": {
   "display_name": "Python 3",
   "language": "python",
   "name": "python3"
  },
  "language_info": {
   "codemirror_mode": {
    "name": "ipython",
    "version": 3
   },
   "file_extension": ".py",
   "mimetype": "text/x-python",
   "name": "python",
   "nbconvert_exporter": "python",
   "pygments_lexer": "ipython3",
   "version": "3.12.0"
  }
 },
 "nbformat": 4,
 "nbformat_minor": 2
}
